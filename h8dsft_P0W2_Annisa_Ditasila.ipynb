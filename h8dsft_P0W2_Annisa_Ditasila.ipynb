{
 "cells": [
  {
   "attachments": {},
   "cell_type": "markdown",
   "metadata": {},
   "source": [
    "# Graded-Challenge 1\n",
    "\n",
    "*by* **Annisa Ditasila**\n",
    "*batch 017*"
   ]
  },
  {
   "attachments": {},
   "cell_type": "markdown",
   "metadata": {},
   "source": [
    "<hr>"
   ]
  },
  {
   "attachments": {},
   "cell_type": "markdown",
   "metadata": {},
   "source": [
    "## Description\n",
    "Graded Challenge ini dibuat untuk mengevaluasi pembelajaran pada Hacktiv8 Data Science Fulltime Program khususnya pada minggu kedua pembelajaran.\n",
    "\n",
    "### Problem Statement\n",
    "Saya adalah anggota tim Data Science di Austin Smart City dan sedang mengerjakan projek analisa sistem pembuangan dan pengelolaan sampah di kota tersebut. Dataset diambil dari [link berikut.](https://console.cloud.google.com/bigquery?p=bigquery-public-data&d=austin_waste&t=waste_and_diversion&page=table)\n",
    "\n",
    "### Objective\n",
    "Berdasarkan data yang tersedia:\n",
    "1. Akan dianalisa data tersebut menggunakan statistik deskriptif dan inferensial\n",
    "2. Memberikan insight kepada pemerintah kota Austin mengenai kondisi sistem pembuangan dan pengelolaan sampah.\n"
   ]
  },
  {
   "attachments": {},
   "cell_type": "markdown",
   "metadata": {},
   "source": [
    "<hr>"
   ]
  },
  {
   "cell_type": "markdown",
   "metadata": {},
   "source": [
    "## Import Library"
   ]
  },
  {
   "cell_type": "code",
   "execution_count": 1818,
   "metadata": {},
   "outputs": [],
   "source": [
    "import pandas as pd\n",
    "import numpy as np\n",
    "import matplotlib.pyplot as plt\n",
    "import scipy.stats as stats\n",
    "from numpy import sqrt\n",
    "import seaborn as sns"
   ]
  },
  {
   "attachments": {},
   "cell_type": "markdown",
   "metadata": {},
   "source": [
    "<hr>"
   ]
  },
  {
   "cell_type": "code",
   "execution_count": 1819,
   "metadata": {},
   "outputs": [
    {
     "data": {
      "text/html": [
       "<div>\n",
       "<style scoped>\n",
       "    .dataframe tbody tr th:only-of-type {\n",
       "        vertical-align: middle;\n",
       "    }\n",
       "\n",
       "    .dataframe tbody tr th {\n",
       "        vertical-align: top;\n",
       "    }\n",
       "\n",
       "    .dataframe thead th {\n",
       "        text-align: right;\n",
       "    }\n",
       "</style>\n",
       "<table border=\"1\" class=\"dataframe\">\n",
       "  <thead>\n",
       "    <tr style=\"text-align: right;\">\n",
       "      <th></th>\n",
       "      <th>report_date</th>\n",
       "      <th>load_time</th>\n",
       "      <th>load_type</th>\n",
       "      <th>load_weight</th>\n",
       "      <th>dropoff_site</th>\n",
       "    </tr>\n",
       "  </thead>\n",
       "  <tbody>\n",
       "    <tr>\n",
       "      <th>0</th>\n",
       "      <td>2021-07-08</td>\n",
       "      <td>2021-07-08 12:00:00 UTC</td>\n",
       "      <td>TIRES</td>\n",
       "      <td>2260.0</td>\n",
       "      <td>MRF</td>\n",
       "    </tr>\n",
       "    <tr>\n",
       "      <th>1</th>\n",
       "      <td>2021-07-08</td>\n",
       "      <td>2021-07-08 11:00:00 UTC</td>\n",
       "      <td>TIRES</td>\n",
       "      <td>1260.0</td>\n",
       "      <td>MRF</td>\n",
       "    </tr>\n",
       "    <tr>\n",
       "      <th>2</th>\n",
       "      <td>2021-07-08</td>\n",
       "      <td>2021-07-08 03:00:00 UTC</td>\n",
       "      <td>TIRES</td>\n",
       "      <td>800.0</td>\n",
       "      <td>MRF</td>\n",
       "    </tr>\n",
       "    <tr>\n",
       "      <th>3</th>\n",
       "      <td>2021-05-01</td>\n",
       "      <td>2021-05-01 12:29:00 UTC</td>\n",
       "      <td>TIRES</td>\n",
       "      <td>760.0</td>\n",
       "      <td>MRF</td>\n",
       "    </tr>\n",
       "    <tr>\n",
       "      <th>4</th>\n",
       "      <td>2021-07-03</td>\n",
       "      <td>2021-07-03 12:09:00 UTC</td>\n",
       "      <td>TIRES</td>\n",
       "      <td>1400.0</td>\n",
       "      <td>MRF</td>\n",
       "    </tr>\n",
       "  </tbody>\n",
       "</table>\n",
       "</div>"
      ],
      "text/plain": [
       "  report_date                load_time load_type  load_weight dropoff_site\n",
       "0  2021-07-08  2021-07-08 12:00:00 UTC     TIRES       2260.0          MRF\n",
       "1  2021-07-08  2021-07-08 11:00:00 UTC     TIRES       1260.0          MRF\n",
       "2  2021-07-08  2021-07-08 03:00:00 UTC     TIRES        800.0          MRF\n",
       "3  2021-05-01  2021-05-01 12:29:00 UTC     TIRES        760.0          MRF\n",
       "4  2021-07-03  2021-07-03 12:09:00 UTC     TIRES       1400.0          MRF"
      ]
     },
     "execution_count": 1819,
     "metadata": {},
     "output_type": "execute_result"
    }
   ],
   "source": [
    "Austin = pd.read_csv (\"h8dsft_P0GC2_Annisa_Ditasila.csv\")\n",
    "Austin.head(5)"
   ]
  },
  {
   "cell_type": "code",
   "execution_count": 1820,
   "metadata": {},
   "outputs": [
    {
     "data": {
      "text/html": [
       "<div>\n",
       "<style scoped>\n",
       "    .dataframe tbody tr th:only-of-type {\n",
       "        vertical-align: middle;\n",
       "    }\n",
       "\n",
       "    .dataframe tbody tr th {\n",
       "        vertical-align: top;\n",
       "    }\n",
       "\n",
       "    .dataframe thead th {\n",
       "        text-align: right;\n",
       "    }\n",
       "</style>\n",
       "<table border=\"1\" class=\"dataframe\">\n",
       "  <thead>\n",
       "    <tr style=\"text-align: right;\">\n",
       "      <th></th>\n",
       "      <th>report_date</th>\n",
       "      <th>load_time</th>\n",
       "      <th>load_type</th>\n",
       "      <th>load_weight</th>\n",
       "      <th>dropoff_site</th>\n",
       "    </tr>\n",
       "  </thead>\n",
       "  <tbody>\n",
       "    <tr>\n",
       "      <th>26152</th>\n",
       "      <td>2021-03-01</td>\n",
       "      <td>2021-03-01 11:26:00 UTC</td>\n",
       "      <td>ORGANICS</td>\n",
       "      <td>12100.0</td>\n",
       "      <td>ORGANICS BY GOSH</td>\n",
       "    </tr>\n",
       "    <tr>\n",
       "      <th>26153</th>\n",
       "      <td>2021-03-01</td>\n",
       "      <td>2021-03-01 04:27:00 UTC</td>\n",
       "      <td>ORGANICS</td>\n",
       "      <td>10900.0</td>\n",
       "      <td>ORGANICS BY GOSH</td>\n",
       "    </tr>\n",
       "    <tr>\n",
       "      <th>26154</th>\n",
       "      <td>2021-03-01</td>\n",
       "      <td>2021-03-01 05:55:00 UTC</td>\n",
       "      <td>ORGANICS</td>\n",
       "      <td>21800.0</td>\n",
       "      <td>ORGANICS BY GOSH</td>\n",
       "    </tr>\n",
       "    <tr>\n",
       "      <th>26155</th>\n",
       "      <td>2021-03-01</td>\n",
       "      <td>2021-03-02 01:10:00 UTC</td>\n",
       "      <td>ORGANICS</td>\n",
       "      <td>5640.0</td>\n",
       "      <td>ORGANICS BY GOSH</td>\n",
       "    </tr>\n",
       "    <tr>\n",
       "      <th>26156</th>\n",
       "      <td>2021-03-01</td>\n",
       "      <td>2021-03-01 10:22:00 UTC</td>\n",
       "      <td>RECYCLED METAL</td>\n",
       "      <td>360.0</td>\n",
       "      <td>AUSTIN IRON AND METAL</td>\n",
       "    </tr>\n",
       "  </tbody>\n",
       "</table>\n",
       "</div>"
      ],
      "text/plain": [
       "      report_date                load_time       load_type  load_weight  \\\n",
       "26152  2021-03-01  2021-03-01 11:26:00 UTC        ORGANICS      12100.0   \n",
       "26153  2021-03-01  2021-03-01 04:27:00 UTC        ORGANICS      10900.0   \n",
       "26154  2021-03-01  2021-03-01 05:55:00 UTC        ORGANICS      21800.0   \n",
       "26155  2021-03-01  2021-03-02 01:10:00 UTC        ORGANICS       5640.0   \n",
       "26156  2021-03-01  2021-03-01 10:22:00 UTC  RECYCLED METAL        360.0   \n",
       "\n",
       "                dropoff_site  \n",
       "26152       ORGANICS BY GOSH  \n",
       "26153       ORGANICS BY GOSH  \n",
       "26154       ORGANICS BY GOSH  \n",
       "26155       ORGANICS BY GOSH  \n",
       "26156  AUSTIN IRON AND METAL  "
      ]
     },
     "execution_count": 1820,
     "metadata": {},
     "output_type": "execute_result"
    }
   ],
   "source": [
    "Austin.tail(5)"
   ]
  },
  {
   "cell_type": "code",
   "execution_count": 1821,
   "metadata": {},
   "outputs": [
    {
     "data": {
      "text/plain": [
       "(26157, 5)"
      ]
     },
     "execution_count": 1821,
     "metadata": {},
     "output_type": "execute_result"
    }
   ],
   "source": [
    "Austin.shape"
   ]
  },
  {
   "cell_type": "code",
   "execution_count": 1822,
   "metadata": {},
   "outputs": [
    {
     "name": "stdout",
     "output_type": "stream",
     "text": [
      "<class 'pandas.core.frame.DataFrame'>\n",
      "RangeIndex: 26157 entries, 0 to 26156\n",
      "Data columns (total 5 columns):\n",
      " #   Column        Non-Null Count  Dtype  \n",
      "---  ------        --------------  -----  \n",
      " 0   report_date   26157 non-null  object \n",
      " 1   load_time     26157 non-null  object \n",
      " 2   load_type     26157 non-null  object \n",
      " 3   load_weight   25109 non-null  float64\n",
      " 4   dropoff_site  26157 non-null  object \n",
      "dtypes: float64(1), object(4)\n",
      "memory usage: 1021.9+ KB\n"
     ]
    }
   ],
   "source": [
    "Austin.info()"
   ]
  },
  {
   "attachments": {},
   "cell_type": "markdown",
   "metadata": {},
   "source": [
    "<hr>"
   ]
  },
  {
   "attachments": {},
   "cell_type": "markdown",
   "metadata": {},
   "source": [
    "## Data Cleaning"
   ]
  },
  {
   "cell_type": "code",
   "execution_count": 1823,
   "metadata": {},
   "outputs": [
    {
     "data": {
      "text/plain": [
       "report_date        0\n",
       "load_time          0\n",
       "load_type          0\n",
       "load_weight     1048\n",
       "dropoff_site       0\n",
       "dtype: int64"
      ]
     },
     "execution_count": 1823,
     "metadata": {},
     "output_type": "execute_result"
    }
   ],
   "source": [
    "Austin.isnull().sum()"
   ]
  },
  {
   "cell_type": "code",
   "execution_count": 1824,
   "metadata": {},
   "outputs": [],
   "source": [
    "Austin = Austin.dropna(axis=0, how='any')"
   ]
  },
  {
   "cell_type": "code",
   "execution_count": 1825,
   "metadata": {},
   "outputs": [
    {
     "data": {
      "text/plain": [
       "report_date     0\n",
       "load_time       0\n",
       "load_type       0\n",
       "load_weight     0\n",
       "dropoff_site    0\n",
       "dtype: int64"
      ]
     },
     "execution_count": 1825,
     "metadata": {},
     "output_type": "execute_result"
    }
   ],
   "source": [
    "Austin.isnull().sum()"
   ]
  },
  {
   "attachments": {},
   "cell_type": "markdown",
   "metadata": {},
   "source": [
    "<hr>"
   ]
  },
  {
   "attachments": {},
   "cell_type": "markdown",
   "metadata": {},
   "source": [
    "## Data Exploring"
   ]
  },
  {
   "cell_type": "code",
   "execution_count": 1826,
   "metadata": {},
   "outputs": [],
   "source": [
    "Austin['report_date'] = pd.to_datetime(Austin['report_date'])"
   ]
  },
  {
   "cell_type": "code",
   "execution_count": 1827,
   "metadata": {},
   "outputs": [
    {
     "name": "stdout",
     "output_type": "stream",
     "text": [
      "19227   2021-01-02\n",
      "Name: report_date, dtype: datetime64[ns]  \n",
      "  206   2021-07-09\n",
      "Name: report_date, dtype: datetime64[ns]\n"
     ]
    }
   ],
   "source": [
    "start_time = df['report_date'].sort_values().head(1)\n",
    "end_time =df['report_date'].sort_values().tail(1)\n",
    "print (start_time,\" \\n \", end_time)"
   ]
  },
  {
   "attachments": {},
   "cell_type": "markdown",
   "metadata": {},
   "source": [
    "Pengambilan data diambil di tahun 2021 yang dimulai dari *tanggal 2 Januari 2021 hingga 9 Juli 2021.*"
   ]
  },
  {
   "cell_type": "code",
   "execution_count": 1828,
   "metadata": {},
   "outputs": [],
   "source": [
    "type_load = Austin.groupby(Austin['load_type'])['load_weight'].sum().sort_values()"
   ]
  },
  {
   "attachments": {},
   "cell_type": "markdown",
   "metadata": {},
   "source": [
    "Ada **14 jenis sampah** yang di kategorikan di Kota Austin."
   ]
  },
  {
   "cell_type": "code",
   "execution_count": 1829,
   "metadata": {},
   "outputs": [
    {
     "data": {
      "text/plain": [
       "dropoff_site\n",
       "STEINER LANDFILL         7.800000e+02\n",
       "AUSTIN WOOD RECYCLING    8.100000e+03\n",
       "BALCONES WOODS           8.460000e+03\n",
       "WESTFIELD                1.602000e+04\n",
       "AUSTIN IRON AND METAL    2.256000e+04\n",
       "PARK BEND                5.354000e+04\n",
       "ON ROUTE HIGH DUMP       8.768000e+04\n",
       "GREAT NORTHERN           1.149200e+05\n",
       "MRF                      3.023970e+05\n",
       "HORNSBY BEND             1.095052e+07\n",
       "TDS - MRF                2.910428e+07\n",
       "BALCONES RECYCLING       3.631587e+07\n",
       "ORGANICS BY GOSH         6.784991e+07\n",
       "TDS LANDFILL             1.621761e+08\n",
       "Name: load_weight, dtype: float64"
      ]
     },
     "execution_count": 1829,
     "metadata": {},
     "output_type": "execute_result"
    }
   ],
   "source": [
    "dropoff_site = Austin.groupby(Austin['dropoff_site'])['load_weight'].sum().sort_values()\n",
    "dropoff_site"
   ]
  },
  {
   "attachments": {},
   "cell_type": "markdown",
   "metadata": {},
   "source": [
    "Tersedia **14 tempat pembuangan sampah** di Kota Austin"
   ]
  },
  {
   "attachments": {},
   "cell_type": "markdown",
   "metadata": {},
   "source": [
    "<hr>"
   ]
  },
  {
   "attachments": {},
   "cell_type": "markdown",
   "metadata": {},
   "source": [
    "## Problem 1 : Statistics"
   ]
  },
  {
   "cell_type": "code",
   "execution_count": 1830,
   "metadata": {},
   "outputs": [
    {
     "data": {
      "text/plain": [
       "dropoff_site\n",
       "GREAT NORTHERN           19153.333333\n",
       "WESTFIELD                16020.000000\n",
       "TDS LANDFILL             15169.407215\n",
       "PARK BEND                13385.000000\n",
       "ON ROUTE HIGH DUMP       12525.714286\n",
       "ORGANICS BY GOSH         11818.482146\n",
       "TDS - MRF                 9872.550882\n",
       "BALCONES RECYCLING        9464.652072\n",
       "BALCONES WOODS            8460.000000\n",
       "HORNSBY BEND              6628.644068\n",
       "AUSTIN WOOD RECYCLING     4050.000000\n",
       "MRF                       1799.982143\n",
       "STEINER LANDFILL           780.000000\n",
       "AUSTIN IRON AND METAL      451.200000\n",
       "Name: load_weight, dtype: float64"
      ]
     },
     "execution_count": 1830,
     "metadata": {},
     "output_type": "execute_result"
    }
   ],
   "source": [
    "load_type_mean = Austin.groupby(['dropoff_site'])['load_weight'].mean().sort_values(ascending=False)\n",
    "load_type_mean"
   ]
  },
  {
   "attachments": {},
   "cell_type": "markdown",
   "metadata": {},
   "source": [
    "Dari data tersebut bisa disimpulkan bahwa di kota Austin tempat yang paling banyak menampung **sampah rata-rata** di 2021 adalah **Great Mothern** sebesar 19153 muatan, kemudian disusul oleh **westfield** sebesar 16020 muatan dan **TDS Landfill** sebesar 15169 muatan"
   ]
  },
  {
   "cell_type": "code",
   "execution_count": 1831,
   "metadata": {},
   "outputs": [
    {
     "data": {
      "text/plain": [
       "dropoff_site\n",
       "GREAT NORTHERN           21110.0\n",
       "WESTFIELD                16020.0\n",
       "ON ROUTE HIGH DUMP       14940.0\n",
       "TDS LANDFILL             14920.0\n",
       "PARK BEND                12330.0\n",
       "ORGANICS BY GOSH         11920.0\n",
       "TDS - MRF                10330.0\n",
       "BALCONES RECYCLING        9840.0\n",
       "BALCONES WOODS            8460.0\n",
       "HORNSBY BEND              6390.0\n",
       "AUSTIN WOOD RECYCLING     4050.0\n",
       "MRF                       1360.0\n",
       "STEINER LANDFILL           780.0\n",
       "AUSTIN IRON AND METAL      400.0\n",
       "Name: load_weight, dtype: float64"
      ]
     },
     "execution_count": 1831,
     "metadata": {},
     "output_type": "execute_result"
    }
   ],
   "source": [
    "load_type_median = Austin.groupby(['dropoff_site'])['load_weight'].median().sort_values(ascending=False)\n",
    "load_type_median"
   ]
  },
  {
   "attachments": {},
   "cell_type": "markdown",
   "metadata": {},
   "source": [
    "jika dilihan dari **nilai tengahnya**, urutan pertaama tetap ditempati oleh **Great Nothern** sebesar 21110 muatan, kemudian **Westfield** sebesar 16020, dan **On Route High Dump** sebesar 14940 muatan."
   ]
  },
  {
   "cell_type": "code",
   "execution_count": 1832,
   "metadata": {},
   "outputs": [
    {
     "data": {
      "text/plain": [
       "dropoff_site            \n",
       "AUSTIN IRON AND METAL  0      260.0\n",
       "                       1      320.0\n",
       "                       2      520.0\n",
       "AUSTIN WOOD RECYCLING  0     2340.0\n",
       "                       1     5760.0\n",
       "BALCONES RECYCLING     0    11880.0\n",
       "BALCONES WOODS         0     8460.0\n",
       "GREAT NORTHERN         0     8700.0\n",
       "                       1    17160.0\n",
       "                       2    20900.0\n",
       "                       3    21320.0\n",
       "                       4    21960.0\n",
       "                       5    24880.0\n",
       "HORNSBY BEND           0     5500.0\n",
       "MRF                    0      960.0\n",
       "ON ROUTE HIGH DUMP     0     4060.0\n",
       "                       1     7480.0\n",
       "                       2    12500.0\n",
       "                       3    14940.0\n",
       "                       4    15040.0\n",
       "                       5    15200.0\n",
       "                       6    18460.0\n",
       "ORGANICS BY GOSH       0    14580.0\n",
       "PARK BEND              0     8480.0\n",
       "                       1     8960.0\n",
       "                       2    15700.0\n",
       "                       3    20400.0\n",
       "STEINER LANDFILL       0      780.0\n",
       "TDS - MRF              0    10360.0\n",
       "TDS LANDFILL           0       20.0\n",
       "                       1       60.0\n",
       "                       2    12020.0\n",
       "WESTFIELD              0    16020.0\n",
       "Name: load_weight, dtype: float64"
      ]
     },
     "execution_count": 1832,
     "metadata": {},
     "output_type": "execute_result"
    }
   ],
   "source": [
    "load_type_mode = Austin.groupby(['dropoff_site'])['load_weight'].apply(pd.Series.mode).sort_index()\n",
    "load_type_mode"
   ]
  },
  {
   "attachments": {},
   "cell_type": "markdown",
   "metadata": {},
   "source": [
    "Berdasarkan perhitungan nilai modus, dapat diketahui bahwa beberapa dropoff site *memiliki satu nilai modus* dan beberapa dropoff site lainnya yang memiliki *nilai modus lebih dari satu (multimodal).*\n",
    "\n",
    "Dropoff site yang memiliki satu **nilai modus** adalah:\n",
    "- BALCONES RECYCLING\n",
    "- BALCONES WOODS\n",
    "- HORNSBY BEND\n",
    "- MRF\n",
    "- ORGANICS BY GOSH\n",
    "- STEINER LANDFILL\n",
    "- TDS - MRF\n",
    "- WESTFIELD\n",
    "\n",
    "Dropoff site yang **multimodal** adalah:\n",
    "- AUSTIN IRON AND METAL\n",
    "- AUSTIN WOOD RECYCLING\n",
    "- GREAT NORTHERN\n",
    "- ON ROUTE HIGH DUMP\n",
    "- PARK BEND\n",
    "- TDS LANDFILL\n"
   ]
  },
  {
   "attachments": {},
   "cell_type": "markdown",
   "metadata": {},
   "source": [
    "## TESTING SITE"
   ]
  },
  {
   "attachments": {},
   "cell_type": "markdown",
   "metadata": {},
   "source": [
    "*Tempat pembuangan sampah yang dipilih adalah **Austin Iron and Metal** karena tempat tersebut menempati urutan paling bawah diantara tempat lainnya dengan data rata-ratanya 451, mediannya 400, dan multimoda di angka 260,320, dan 520.*"
   ]
  },
  {
   "cell_type": "code",
   "execution_count": 1833,
   "metadata": {},
   "outputs": [
    {
     "data": {
      "text/html": [
       "<div>\n",
       "<style scoped>\n",
       "    .dataframe tbody tr th:only-of-type {\n",
       "        vertical-align: middle;\n",
       "    }\n",
       "\n",
       "    .dataframe tbody tr th {\n",
       "        vertical-align: top;\n",
       "    }\n",
       "\n",
       "    .dataframe thead th {\n",
       "        text-align: right;\n",
       "    }\n",
       "</style>\n",
       "<table border=\"1\" class=\"dataframe\">\n",
       "  <thead>\n",
       "    <tr style=\"text-align: right;\">\n",
       "      <th></th>\n",
       "      <th>report_date</th>\n",
       "      <th>load_time</th>\n",
       "      <th>load_type</th>\n",
       "      <th>load_weight</th>\n",
       "      <th>dropoff_site</th>\n",
       "    </tr>\n",
       "  </thead>\n",
       "  <tbody>\n",
       "    <tr>\n",
       "      <th>19687</th>\n",
       "      <td>2021-01-05</td>\n",
       "      <td>2021-01-05 11:00:00 UTC</td>\n",
       "      <td>RECYCLED METAL</td>\n",
       "      <td>260.0</td>\n",
       "      <td>AUSTIN IRON AND METAL</td>\n",
       "    </tr>\n",
       "    <tr>\n",
       "      <th>19872</th>\n",
       "      <td>2021-01-06</td>\n",
       "      <td>2021-01-06 10:07:00 UTC</td>\n",
       "      <td>RECYCLED METAL</td>\n",
       "      <td>220.0</td>\n",
       "      <td>AUSTIN IRON AND METAL</td>\n",
       "    </tr>\n",
       "    <tr>\n",
       "      <th>20785</th>\n",
       "      <td>2021-01-13</td>\n",
       "      <td>2021-01-13 11:54:00 UTC</td>\n",
       "      <td>RECYCLED METAL</td>\n",
       "      <td>640.0</td>\n",
       "      <td>AUSTIN IRON AND METAL</td>\n",
       "    </tr>\n",
       "    <tr>\n",
       "      <th>21516</th>\n",
       "      <td>2021-01-19</td>\n",
       "      <td>2021-01-19 11:02:00 UTC</td>\n",
       "      <td>RECYCLED METAL</td>\n",
       "      <td>830.0</td>\n",
       "      <td>AUSTIN IRON AND METAL</td>\n",
       "    </tr>\n",
       "    <tr>\n",
       "      <th>23735</th>\n",
       "      <td>2021-02-04</td>\n",
       "      <td>2021-02-04 10:57:00 UTC</td>\n",
       "      <td>RECYCLED METAL</td>\n",
       "      <td>140.0</td>\n",
       "      <td>AUSTIN IRON AND METAL</td>\n",
       "    </tr>\n",
       "    <tr>\n",
       "      <th>24099</th>\n",
       "      <td>2021-02-08</td>\n",
       "      <td>2021-02-08 11:03:00 UTC</td>\n",
       "      <td>RECYCLED METAL</td>\n",
       "      <td>390.0</td>\n",
       "      <td>AUSTIN IRON AND METAL</td>\n",
       "    </tr>\n",
       "    <tr>\n",
       "      <th>24288</th>\n",
       "      <td>2021-02-09</td>\n",
       "      <td>2021-02-09 11:40:00 UTC</td>\n",
       "      <td>RECYCLED METAL</td>\n",
       "      <td>780.0</td>\n",
       "      <td>AUSTIN IRON AND METAL</td>\n",
       "    </tr>\n",
       "    <tr>\n",
       "      <th>24501</th>\n",
       "      <td>2021-02-10</td>\n",
       "      <td>2021-02-10 11:06:00 UTC</td>\n",
       "      <td>RECYCLED METAL</td>\n",
       "      <td>180.0</td>\n",
       "      <td>AUSTIN IRON AND METAL</td>\n",
       "    </tr>\n",
       "    <tr>\n",
       "      <th>25156</th>\n",
       "      <td>2021-02-23</td>\n",
       "      <td>2021-02-23 11:42:00 UTC</td>\n",
       "      <td>RECYCLED METAL</td>\n",
       "      <td>400.0</td>\n",
       "      <td>AUSTIN IRON AND METAL</td>\n",
       "    </tr>\n",
       "    <tr>\n",
       "      <th>26156</th>\n",
       "      <td>2021-03-01</td>\n",
       "      <td>2021-03-01 10:22:00 UTC</td>\n",
       "      <td>RECYCLED METAL</td>\n",
       "      <td>360.0</td>\n",
       "      <td>AUSTIN IRON AND METAL</td>\n",
       "    </tr>\n",
       "    <tr>\n",
       "      <th>1314</th>\n",
       "      <td>2021-03-02</td>\n",
       "      <td>2021-03-02 12:23:00 UTC</td>\n",
       "      <td>RECYCLED METAL</td>\n",
       "      <td>520.0</td>\n",
       "      <td>AUSTIN IRON AND METAL</td>\n",
       "    </tr>\n",
       "    <tr>\n",
       "      <th>2273</th>\n",
       "      <td>2021-03-08</td>\n",
       "      <td>2021-03-08 11:28:00 UTC</td>\n",
       "      <td>RECYCLED METAL</td>\n",
       "      <td>350.0</td>\n",
       "      <td>AUSTIN IRON AND METAL</td>\n",
       "    </tr>\n",
       "    <tr>\n",
       "      <th>2529</th>\n",
       "      <td>2021-03-09</td>\n",
       "      <td>2021-03-09 11:21:00 UTC</td>\n",
       "      <td>RECYCLED METAL</td>\n",
       "      <td>280.0</td>\n",
       "      <td>AUSTIN IRON AND METAL</td>\n",
       "    </tr>\n",
       "    <tr>\n",
       "      <th>2785</th>\n",
       "      <td>2021-03-10</td>\n",
       "      <td>2021-03-10 11:31:00 UTC</td>\n",
       "      <td>RECYCLED METAL</td>\n",
       "      <td>500.0</td>\n",
       "      <td>AUSTIN IRON AND METAL</td>\n",
       "    </tr>\n",
       "    <tr>\n",
       "      <th>3025</th>\n",
       "      <td>2021-03-11</td>\n",
       "      <td>2021-03-11 02:45:00 UTC</td>\n",
       "      <td>RECYCLED METAL</td>\n",
       "      <td>630.0</td>\n",
       "      <td>AUSTIN IRON AND METAL</td>\n",
       "    </tr>\n",
       "    <tr>\n",
       "      <th>3474</th>\n",
       "      <td>2021-03-15</td>\n",
       "      <td>2021-03-15 10:42:00 UTC</td>\n",
       "      <td>RECYCLED METAL</td>\n",
       "      <td>1040.0</td>\n",
       "      <td>AUSTIN IRON AND METAL</td>\n",
       "    </tr>\n",
       "    <tr>\n",
       "      <th>4790</th>\n",
       "      <td>2021-03-23</td>\n",
       "      <td>2021-03-23 10:49:00 UTC</td>\n",
       "      <td>RECYCLED METAL</td>\n",
       "      <td>290.0</td>\n",
       "      <td>AUSTIN IRON AND METAL</td>\n",
       "    </tr>\n",
       "    <tr>\n",
       "      <th>6888</th>\n",
       "      <td>2021-04-06</td>\n",
       "      <td>2021-04-06 11:53:00 UTC</td>\n",
       "      <td>RECYCLED METAL</td>\n",
       "      <td>290.0</td>\n",
       "      <td>AUSTIN IRON AND METAL</td>\n",
       "    </tr>\n",
       "    <tr>\n",
       "      <th>7642</th>\n",
       "      <td>2021-04-12</td>\n",
       "      <td>2021-04-12 10:47:00 UTC</td>\n",
       "      <td>RECYCLED METAL</td>\n",
       "      <td>240.0</td>\n",
       "      <td>AUSTIN IRON AND METAL</td>\n",
       "    </tr>\n",
       "    <tr>\n",
       "      <th>8713</th>\n",
       "      <td>2021-04-19</td>\n",
       "      <td>2021-04-19 11:33:00 UTC</td>\n",
       "      <td>RECYCLED METAL</td>\n",
       "      <td>480.0</td>\n",
       "      <td>AUSTIN IRON AND METAL</td>\n",
       "    </tr>\n",
       "    <tr>\n",
       "      <th>9122</th>\n",
       "      <td>2021-04-21</td>\n",
       "      <td>2021-04-21 10:24:00 UTC</td>\n",
       "      <td>RECYCLED METAL</td>\n",
       "      <td>710.0</td>\n",
       "      <td>AUSTIN IRON AND METAL</td>\n",
       "    </tr>\n",
       "    <tr>\n",
       "      <th>9320</th>\n",
       "      <td>2021-04-22</td>\n",
       "      <td>2021-04-22 01:18:00 UTC</td>\n",
       "      <td>RECYCLED METAL</td>\n",
       "      <td>560.0</td>\n",
       "      <td>AUSTIN IRON AND METAL</td>\n",
       "    </tr>\n",
       "    <tr>\n",
       "      <th>9876</th>\n",
       "      <td>2021-04-27</td>\n",
       "      <td>2021-04-27 12:15:00 UTC</td>\n",
       "      <td>RECYCLED METAL</td>\n",
       "      <td>260.0</td>\n",
       "      <td>AUSTIN IRON AND METAL</td>\n",
       "    </tr>\n",
       "    <tr>\n",
       "      <th>10083</th>\n",
       "      <td>2021-04-28</td>\n",
       "      <td>2021-04-28 10:43:00 UTC</td>\n",
       "      <td>RECYCLED METAL</td>\n",
       "      <td>400.0</td>\n",
       "      <td>AUSTIN IRON AND METAL</td>\n",
       "    </tr>\n",
       "    <tr>\n",
       "      <th>10247</th>\n",
       "      <td>2021-04-29</td>\n",
       "      <td>2021-04-29 09:31:00 UTC</td>\n",
       "      <td>RECYCLED METAL</td>\n",
       "      <td>470.0</td>\n",
       "      <td>AUSTIN IRON AND METAL</td>\n",
       "    </tr>\n",
       "    <tr>\n",
       "      <th>10598</th>\n",
       "      <td>2021-05-03</td>\n",
       "      <td>2021-05-03 10:08:00 UTC</td>\n",
       "      <td>RECYCLED METAL</td>\n",
       "      <td>300.0</td>\n",
       "      <td>AUSTIN IRON AND METAL</td>\n",
       "    </tr>\n",
       "    <tr>\n",
       "      <th>10787</th>\n",
       "      <td>2021-05-04</td>\n",
       "      <td>2021-05-04 02:30:00 UTC</td>\n",
       "      <td>RECYCLED METAL</td>\n",
       "      <td>520.0</td>\n",
       "      <td>AUSTIN IRON AND METAL</td>\n",
       "    </tr>\n",
       "    <tr>\n",
       "      <th>10976</th>\n",
       "      <td>2021-05-05</td>\n",
       "      <td>2021-05-05 03:25:00 UTC</td>\n",
       "      <td>RECYCLED METAL</td>\n",
       "      <td>650.0</td>\n",
       "      <td>AUSTIN IRON AND METAL</td>\n",
       "    </tr>\n",
       "    <tr>\n",
       "      <th>11151</th>\n",
       "      <td>2021-05-06</td>\n",
       "      <td>2021-05-06 10:57:00 UTC</td>\n",
       "      <td>RECYCLED METAL</td>\n",
       "      <td>550.0</td>\n",
       "      <td>AUSTIN IRON AND METAL</td>\n",
       "    </tr>\n",
       "    <tr>\n",
       "      <th>11518</th>\n",
       "      <td>2021-05-10</td>\n",
       "      <td>2021-05-10 11:27:00 UTC</td>\n",
       "      <td>RECYCLED METAL</td>\n",
       "      <td>660.0</td>\n",
       "      <td>AUSTIN IRON AND METAL</td>\n",
       "    </tr>\n",
       "    <tr>\n",
       "      <th>11706</th>\n",
       "      <td>2021-05-11</td>\n",
       "      <td>2021-05-11 10:46:00 UTC</td>\n",
       "      <td>RECYCLED METAL</td>\n",
       "      <td>1060.0</td>\n",
       "      <td>AUSTIN IRON AND METAL</td>\n",
       "    </tr>\n",
       "    <tr>\n",
       "      <th>11920</th>\n",
       "      <td>2021-05-12</td>\n",
       "      <td>2021-05-12 02:43:00 UTC</td>\n",
       "      <td>RECYCLED METAL</td>\n",
       "      <td>600.0</td>\n",
       "      <td>AUSTIN IRON AND METAL</td>\n",
       "    </tr>\n",
       "    <tr>\n",
       "      <th>12114</th>\n",
       "      <td>2021-05-13</td>\n",
       "      <td>2021-05-13 12:32:00 UTC</td>\n",
       "      <td>RECYCLED METAL</td>\n",
       "      <td>320.0</td>\n",
       "      <td>AUSTIN IRON AND METAL</td>\n",
       "    </tr>\n",
       "    <tr>\n",
       "      <th>12681</th>\n",
       "      <td>2021-05-18</td>\n",
       "      <td>2021-05-18 10:07:00 UTC</td>\n",
       "      <td>RECYCLED METAL</td>\n",
       "      <td>520.0</td>\n",
       "      <td>AUSTIN IRON AND METAL</td>\n",
       "    </tr>\n",
       "    <tr>\n",
       "      <th>13040</th>\n",
       "      <td>2021-05-20</td>\n",
       "      <td>2021-05-20 09:47:00 UTC</td>\n",
       "      <td>RECYCLED METAL</td>\n",
       "      <td>230.0</td>\n",
       "      <td>AUSTIN IRON AND METAL</td>\n",
       "    </tr>\n",
       "    <tr>\n",
       "      <th>13576</th>\n",
       "      <td>2021-05-25</td>\n",
       "      <td>2021-05-25 11:03:00 UTC</td>\n",
       "      <td>RECYCLED METAL</td>\n",
       "      <td>600.0</td>\n",
       "      <td>AUSTIN IRON AND METAL</td>\n",
       "    </tr>\n",
       "    <tr>\n",
       "      <th>13958</th>\n",
       "      <td>2021-05-27</td>\n",
       "      <td>2021-05-27 10:33:00 UTC</td>\n",
       "      <td>RECYCLED METAL</td>\n",
       "      <td>220.0</td>\n",
       "      <td>AUSTIN IRON AND METAL</td>\n",
       "    </tr>\n",
       "    <tr>\n",
       "      <th>14468</th>\n",
       "      <td>2021-06-01</td>\n",
       "      <td>2021-06-01 01:54:00 UTC</td>\n",
       "      <td>RECYCLED METAL</td>\n",
       "      <td>530.0</td>\n",
       "      <td>AUSTIN IRON AND METAL</td>\n",
       "    </tr>\n",
       "    <tr>\n",
       "      <th>14817</th>\n",
       "      <td>2021-06-03</td>\n",
       "      <td>2021-06-03 12:00:00 UTC</td>\n",
       "      <td>RECYCLED METAL</td>\n",
       "      <td>260.0</td>\n",
       "      <td>AUSTIN IRON AND METAL</td>\n",
       "    </tr>\n",
       "    <tr>\n",
       "      <th>15168</th>\n",
       "      <td>2021-06-07</td>\n",
       "      <td>2021-06-07 11:09:00 UTC</td>\n",
       "      <td>RECYCLED METAL</td>\n",
       "      <td>510.0</td>\n",
       "      <td>AUSTIN IRON AND METAL</td>\n",
       "    </tr>\n",
       "    <tr>\n",
       "      <th>15355</th>\n",
       "      <td>2021-06-08</td>\n",
       "      <td>2021-06-08 11:41:00 UTC</td>\n",
       "      <td>RECYCLED METAL</td>\n",
       "      <td>320.0</td>\n",
       "      <td>AUSTIN IRON AND METAL</td>\n",
       "    </tr>\n",
       "    <tr>\n",
       "      <th>15764</th>\n",
       "      <td>2021-06-10</td>\n",
       "      <td>2021-06-10 10:10:00 UTC</td>\n",
       "      <td>RECYCLED METAL</td>\n",
       "      <td>340.0</td>\n",
       "      <td>AUSTIN IRON AND METAL</td>\n",
       "    </tr>\n",
       "    <tr>\n",
       "      <th>16499</th>\n",
       "      <td>2021-06-16</td>\n",
       "      <td>2021-06-16 02:18:00 UTC</td>\n",
       "      <td>RECYCLED METAL</td>\n",
       "      <td>160.0</td>\n",
       "      <td>AUSTIN IRON AND METAL</td>\n",
       "    </tr>\n",
       "    <tr>\n",
       "      <th>16702</th>\n",
       "      <td>2021-06-17</td>\n",
       "      <td>2021-06-17 10:06:00 UTC</td>\n",
       "      <td>RECYCLED METAL</td>\n",
       "      <td>380.0</td>\n",
       "      <td>AUSTIN IRON AND METAL</td>\n",
       "    </tr>\n",
       "    <tr>\n",
       "      <th>17063</th>\n",
       "      <td>2021-06-21</td>\n",
       "      <td>2021-06-21 11:02:00 UTC</td>\n",
       "      <td>RECYCLED METAL</td>\n",
       "      <td>340.0</td>\n",
       "      <td>AUSTIN IRON AND METAL</td>\n",
       "    </tr>\n",
       "    <tr>\n",
       "      <th>17250</th>\n",
       "      <td>2021-06-22</td>\n",
       "      <td>2021-06-22 10:57:00 UTC</td>\n",
       "      <td>RECYCLED METAL</td>\n",
       "      <td>800.0</td>\n",
       "      <td>AUSTIN IRON AND METAL</td>\n",
       "    </tr>\n",
       "    <tr>\n",
       "      <th>17444</th>\n",
       "      <td>2021-06-23</td>\n",
       "      <td>2021-06-23 10:47:00 UTC</td>\n",
       "      <td>RECYCLED METAL</td>\n",
       "      <td>460.0</td>\n",
       "      <td>AUSTIN IRON AND METAL</td>\n",
       "    </tr>\n",
       "    <tr>\n",
       "      <th>18979</th>\n",
       "      <td>2021-07-06</td>\n",
       "      <td>2021-07-06 10:28:00 UTC</td>\n",
       "      <td>RECYCLED METAL</td>\n",
       "      <td>150.0</td>\n",
       "      <td>AUSTIN IRON AND METAL</td>\n",
       "    </tr>\n",
       "    <tr>\n",
       "      <th>19127</th>\n",
       "      <td>2021-07-07</td>\n",
       "      <td>2021-07-07 12:38:00 UTC</td>\n",
       "      <td>RECYCLED METAL</td>\n",
       "      <td>540.0</td>\n",
       "      <td>AUSTIN IRON AND METAL</td>\n",
       "    </tr>\n",
       "    <tr>\n",
       "      <th>1083</th>\n",
       "      <td>2021-07-08</td>\n",
       "      <td>2021-07-08 10:43:00 UTC</td>\n",
       "      <td>RECYCLED METAL</td>\n",
       "      <td>320.0</td>\n",
       "      <td>AUSTIN IRON AND METAL</td>\n",
       "    </tr>\n",
       "  </tbody>\n",
       "</table>\n",
       "</div>"
      ],
      "text/plain": [
       "      report_date                load_time       load_type  load_weight  \\\n",
       "19687  2021-01-05  2021-01-05 11:00:00 UTC  RECYCLED METAL        260.0   \n",
       "19872  2021-01-06  2021-01-06 10:07:00 UTC  RECYCLED METAL        220.0   \n",
       "20785  2021-01-13  2021-01-13 11:54:00 UTC  RECYCLED METAL        640.0   \n",
       "21516  2021-01-19  2021-01-19 11:02:00 UTC  RECYCLED METAL        830.0   \n",
       "23735  2021-02-04  2021-02-04 10:57:00 UTC  RECYCLED METAL        140.0   \n",
       "24099  2021-02-08  2021-02-08 11:03:00 UTC  RECYCLED METAL        390.0   \n",
       "24288  2021-02-09  2021-02-09 11:40:00 UTC  RECYCLED METAL        780.0   \n",
       "24501  2021-02-10  2021-02-10 11:06:00 UTC  RECYCLED METAL        180.0   \n",
       "25156  2021-02-23  2021-02-23 11:42:00 UTC  RECYCLED METAL        400.0   \n",
       "26156  2021-03-01  2021-03-01 10:22:00 UTC  RECYCLED METAL        360.0   \n",
       "1314   2021-03-02  2021-03-02 12:23:00 UTC  RECYCLED METAL        520.0   \n",
       "2273   2021-03-08  2021-03-08 11:28:00 UTC  RECYCLED METAL        350.0   \n",
       "2529   2021-03-09  2021-03-09 11:21:00 UTC  RECYCLED METAL        280.0   \n",
       "2785   2021-03-10  2021-03-10 11:31:00 UTC  RECYCLED METAL        500.0   \n",
       "3025   2021-03-11  2021-03-11 02:45:00 UTC  RECYCLED METAL        630.0   \n",
       "3474   2021-03-15  2021-03-15 10:42:00 UTC  RECYCLED METAL       1040.0   \n",
       "4790   2021-03-23  2021-03-23 10:49:00 UTC  RECYCLED METAL        290.0   \n",
       "6888   2021-04-06  2021-04-06 11:53:00 UTC  RECYCLED METAL        290.0   \n",
       "7642   2021-04-12  2021-04-12 10:47:00 UTC  RECYCLED METAL        240.0   \n",
       "8713   2021-04-19  2021-04-19 11:33:00 UTC  RECYCLED METAL        480.0   \n",
       "9122   2021-04-21  2021-04-21 10:24:00 UTC  RECYCLED METAL        710.0   \n",
       "9320   2021-04-22  2021-04-22 01:18:00 UTC  RECYCLED METAL        560.0   \n",
       "9876   2021-04-27  2021-04-27 12:15:00 UTC  RECYCLED METAL        260.0   \n",
       "10083  2021-04-28  2021-04-28 10:43:00 UTC  RECYCLED METAL        400.0   \n",
       "10247  2021-04-29  2021-04-29 09:31:00 UTC  RECYCLED METAL        470.0   \n",
       "10598  2021-05-03  2021-05-03 10:08:00 UTC  RECYCLED METAL        300.0   \n",
       "10787  2021-05-04  2021-05-04 02:30:00 UTC  RECYCLED METAL        520.0   \n",
       "10976  2021-05-05  2021-05-05 03:25:00 UTC  RECYCLED METAL        650.0   \n",
       "11151  2021-05-06  2021-05-06 10:57:00 UTC  RECYCLED METAL        550.0   \n",
       "11518  2021-05-10  2021-05-10 11:27:00 UTC  RECYCLED METAL        660.0   \n",
       "11706  2021-05-11  2021-05-11 10:46:00 UTC  RECYCLED METAL       1060.0   \n",
       "11920  2021-05-12  2021-05-12 02:43:00 UTC  RECYCLED METAL        600.0   \n",
       "12114  2021-05-13  2021-05-13 12:32:00 UTC  RECYCLED METAL        320.0   \n",
       "12681  2021-05-18  2021-05-18 10:07:00 UTC  RECYCLED METAL        520.0   \n",
       "13040  2021-05-20  2021-05-20 09:47:00 UTC  RECYCLED METAL        230.0   \n",
       "13576  2021-05-25  2021-05-25 11:03:00 UTC  RECYCLED METAL        600.0   \n",
       "13958  2021-05-27  2021-05-27 10:33:00 UTC  RECYCLED METAL        220.0   \n",
       "14468  2021-06-01  2021-06-01 01:54:00 UTC  RECYCLED METAL        530.0   \n",
       "14817  2021-06-03  2021-06-03 12:00:00 UTC  RECYCLED METAL        260.0   \n",
       "15168  2021-06-07  2021-06-07 11:09:00 UTC  RECYCLED METAL        510.0   \n",
       "15355  2021-06-08  2021-06-08 11:41:00 UTC  RECYCLED METAL        320.0   \n",
       "15764  2021-06-10  2021-06-10 10:10:00 UTC  RECYCLED METAL        340.0   \n",
       "16499  2021-06-16  2021-06-16 02:18:00 UTC  RECYCLED METAL        160.0   \n",
       "16702  2021-06-17  2021-06-17 10:06:00 UTC  RECYCLED METAL        380.0   \n",
       "17063  2021-06-21  2021-06-21 11:02:00 UTC  RECYCLED METAL        340.0   \n",
       "17250  2021-06-22  2021-06-22 10:57:00 UTC  RECYCLED METAL        800.0   \n",
       "17444  2021-06-23  2021-06-23 10:47:00 UTC  RECYCLED METAL        460.0   \n",
       "18979  2021-07-06  2021-07-06 10:28:00 UTC  RECYCLED METAL        150.0   \n",
       "19127  2021-07-07  2021-07-07 12:38:00 UTC  RECYCLED METAL        540.0   \n",
       "1083   2021-07-08  2021-07-08 10:43:00 UTC  RECYCLED METAL        320.0   \n",
       "\n",
       "                dropoff_site  \n",
       "19687  AUSTIN IRON AND METAL  \n",
       "19872  AUSTIN IRON AND METAL  \n",
       "20785  AUSTIN IRON AND METAL  \n",
       "21516  AUSTIN IRON AND METAL  \n",
       "23735  AUSTIN IRON AND METAL  \n",
       "24099  AUSTIN IRON AND METAL  \n",
       "24288  AUSTIN IRON AND METAL  \n",
       "24501  AUSTIN IRON AND METAL  \n",
       "25156  AUSTIN IRON AND METAL  \n",
       "26156  AUSTIN IRON AND METAL  \n",
       "1314   AUSTIN IRON AND METAL  \n",
       "2273   AUSTIN IRON AND METAL  \n",
       "2529   AUSTIN IRON AND METAL  \n",
       "2785   AUSTIN IRON AND METAL  \n",
       "3025   AUSTIN IRON AND METAL  \n",
       "3474   AUSTIN IRON AND METAL  \n",
       "4790   AUSTIN IRON AND METAL  \n",
       "6888   AUSTIN IRON AND METAL  \n",
       "7642   AUSTIN IRON AND METAL  \n",
       "8713   AUSTIN IRON AND METAL  \n",
       "9122   AUSTIN IRON AND METAL  \n",
       "9320   AUSTIN IRON AND METAL  \n",
       "9876   AUSTIN IRON AND METAL  \n",
       "10083  AUSTIN IRON AND METAL  \n",
       "10247  AUSTIN IRON AND METAL  \n",
       "10598  AUSTIN IRON AND METAL  \n",
       "10787  AUSTIN IRON AND METAL  \n",
       "10976  AUSTIN IRON AND METAL  \n",
       "11151  AUSTIN IRON AND METAL  \n",
       "11518  AUSTIN IRON AND METAL  \n",
       "11706  AUSTIN IRON AND METAL  \n",
       "11920  AUSTIN IRON AND METAL  \n",
       "12114  AUSTIN IRON AND METAL  \n",
       "12681  AUSTIN IRON AND METAL  \n",
       "13040  AUSTIN IRON AND METAL  \n",
       "13576  AUSTIN IRON AND METAL  \n",
       "13958  AUSTIN IRON AND METAL  \n",
       "14468  AUSTIN IRON AND METAL  \n",
       "14817  AUSTIN IRON AND METAL  \n",
       "15168  AUSTIN IRON AND METAL  \n",
       "15355  AUSTIN IRON AND METAL  \n",
       "15764  AUSTIN IRON AND METAL  \n",
       "16499  AUSTIN IRON AND METAL  \n",
       "16702  AUSTIN IRON AND METAL  \n",
       "17063  AUSTIN IRON AND METAL  \n",
       "17250  AUSTIN IRON AND METAL  \n",
       "17444  AUSTIN IRON AND METAL  \n",
       "18979  AUSTIN IRON AND METAL  \n",
       "19127  AUSTIN IRON AND METAL  \n",
       "1083   AUSTIN IRON AND METAL  "
      ]
     },
     "execution_count": 1833,
     "metadata": {},
     "output_type": "execute_result"
    }
   ],
   "source": [
    "AUSTIN_IRON_AND_METAL  = Austin[Austin['dropoff_site']=='AUSTIN IRON AND METAL']\n",
    "AUSTIN_IRON_AND_METAL.sort_values('report_date')"
   ]
  },
  {
   "attachments": {},
   "cell_type": "markdown",
   "metadata": {},
   "source": [
    "#### Outlier"
   ]
  },
  {
   "cell_type": "code",
   "execution_count": 1834,
   "metadata": {},
   "outputs": [
    {
     "data": {
      "image/png": "[encoded data removed]",
      "text/plain": [
       "<Figure size 640x480 with 1 Axes>"
      ]
     },
     "metadata": {},
     "output_type": "display_data"
    }
   ],
   "source": [
    "AUSTIN_IRON_AND_METAL = Austin.loc[Austin['dropoff_site'] == 'AUSTIN IRON AND METAL']['load_weight']\n",
    "density = stats.gaussian_kde(AUSTIN_IRON_AND_METAL)\n",
    "n, x, _ = plt.hist(AUSTIN_IRON_AND_METAL, histtype='step', bins=5)  \n",
    "plt.plot(x, density(x)*10**5)\n",
    "plt.axvline(AUSTIN_IRON_AND_METAL.mean(), color='black', linestyle='dashed', linewidth=2)\n",
    "plt.axvline(AUSTIN_IRON_AND_METAL.median(), color='red', linestyle='dashed', linewidth=2)\n",
    "plt.axvline(AUSTIN_IRON_AND_METAL.mode()[0], color='green', linestyle='dashed', linewidth=2)\n",
    "plt.show()\n"
   ]
  },
  {
   "cell_type": "code",
   "execution_count": 1835,
   "metadata": {},
   "outputs": [
    {
     "name": "stdout",
     "output_type": "stream",
     "text": [
      "Median: 21110.0\n",
      "Mean: 19153.333333333332\n",
      "Mode: 8700.0\n",
      "Min: 8700.0\n",
      "Max: 24880.0\n",
      "Skew: -1.50900963982105\n"
     ]
    }
   ],
   "source": [
    "AUSTIN_IRON_AND_METAL  = Austin[Austin['dropoff_site']=='GREAT NORTHERN']\n",
    "print (\"Median: \" + str(AUSTIN_IRON_AND_METAL['load_weight'].median()))\n",
    "print (\"Mean: \" + str(AUSTIN_IRON_AND_METAL['load_weight'].mean()))\n",
    "print (\"Mode: \" + str(AUSTIN_IRON_AND_METAL['load_weight'].mode()[0]))\n",
    "print (\"Min: \" + str(AUSTIN_IRON_AND_METAL['load_weight'].min()))\n",
    "print (\"Max: \" + str(AUSTIN_IRON_AND_METAL['load_weight'].max()))\n",
    "print (\"Skew: \" + str(AUSTIN_IRON_AND_METAL['load_weight'].skew()))"
   ]
  },
  {
   "attachments": {},
   "cell_type": "markdown",
   "metadata": {},
   "source": [
    "Karena nilai mean < median > modus"
   ]
  },
  {
   "attachments": {},
   "cell_type": "markdown",
   "metadata": {},
   "source": [
    "Karena nilai median > mean > modus maka bisa di kategorikan sebagai **Positive skew** dan skew digambarkan sangat miring karena Skewness < -0,5."
   ]
  },
  {
   "cell_type": "code",
   "execution_count": 1836,
   "metadata": {},
   "outputs": [
    {
     "data": {
      "image/png": "[encoded data removed]",
      "text/plain": [
       "<Figure size 800x600 with 1 Axes>"
      ]
     },
     "metadata": {},
     "output_type": "display_data"
    }
   ],
   "source": [
    "AUSTIN_IRON_AND_METAL.plot(kind='box', title='Load Weight Distribution with outlier in Austin Iron and Metal', figsize=(8,6))\n",
    "plt.show()"
   ]
  },
  {
   "cell_type": "code",
   "execution_count": 1837,
   "metadata": {},
   "outputs": [
    {
     "data": {
      "text/html": [
       "<div>\n",
       "<style scoped>\n",
       "    .dataframe tbody tr th:only-of-type {\n",
       "        vertical-align: middle;\n",
       "    }\n",
       "\n",
       "    .dataframe tbody tr th {\n",
       "        vertical-align: top;\n",
       "    }\n",
       "\n",
       "    .dataframe thead th {\n",
       "        text-align: right;\n",
       "    }\n",
       "</style>\n",
       "<table border=\"1\" class=\"dataframe\">\n",
       "  <thead>\n",
       "    <tr style=\"text-align: right;\">\n",
       "      <th></th>\n",
       "      <th>load_weight</th>\n",
       "    </tr>\n",
       "  </thead>\n",
       "  <tbody>\n",
       "    <tr>\n",
       "      <th>count</th>\n",
       "      <td>50.000000</td>\n",
       "    </tr>\n",
       "    <tr>\n",
       "      <th>mean</th>\n",
       "      <td>451.200000</td>\n",
       "    </tr>\n",
       "    <tr>\n",
       "      <th>std</th>\n",
       "      <td>215.649375</td>\n",
       "    </tr>\n",
       "    <tr>\n",
       "      <th>min</th>\n",
       "      <td>140.000000</td>\n",
       "    </tr>\n",
       "    <tr>\n",
       "      <th>25%</th>\n",
       "      <td>290.000000</td>\n",
       "    </tr>\n",
       "    <tr>\n",
       "      <th>50%</th>\n",
       "      <td>400.000000</td>\n",
       "    </tr>\n",
       "    <tr>\n",
       "      <th>75%</th>\n",
       "      <td>557.500000</td>\n",
       "    </tr>\n",
       "    <tr>\n",
       "      <th>max</th>\n",
       "      <td>1060.000000</td>\n",
       "    </tr>\n",
       "  </tbody>\n",
       "</table>\n",
       "</div>"
      ],
      "text/plain": [
       "       load_weight\n",
       "count    50.000000\n",
       "mean    451.200000\n",
       "std     215.649375\n",
       "min     140.000000\n",
       "25%     290.000000\n",
       "50%     400.000000\n",
       "75%     557.500000\n",
       "max    1060.000000"
      ]
     },
     "execution_count": 1837,
     "metadata": {},
     "output_type": "execute_result"
    }
   ],
   "source": [
    "AUSTIN_IRON_AND_METAL_df = Austin.loc[Austin['dropoff_site'] == 'AUSTIN IRON AND METAL']['load_weight']\n",
    "AUSTIN_IRON_AND_METAL_df = pd.DataFrame(AUSTIN_IRON_AND_METAL_df, columns=['load_weight'])\n",
    "AUSTIN_IRON_AND_METAL_df.describe()"
   ]
  },
  {
   "cell_type": "code",
   "execution_count": 1838,
   "metadata": {},
   "outputs": [
    {
     "name": "stdout",
     "output_type": "stream",
     "text": [
      "267.5\n"
     ]
    },
    {
     "data": {
      "text/plain": [
       "Text(0.5, 1.0, 'Load Weight Box Plot')"
      ]
     },
     "execution_count": 1838,
     "metadata": {},
     "output_type": "execute_result"
    },
    {
     "data": {
      "image/png": "[encoded data removed]",
      "text/plain": [
       "<Figure size 640x480 with 1 Axes>"
      ]
     },
     "metadata": {},
     "output_type": "display_data"
    }
   ],
   "source": [
    "Q1, Q3 = np.percentile(AUSTIN_IRON_AND_METAL_df['load_weight'],[25,75])\n",
    "IQR = Q3 - Q1\n",
    "print(IQR)\n",
    "\n",
    "lower_limit = Q1 - (1.5 * IQR)\n",
    "upper_limit = Q3 + (1.5 * IQR)\n",
    "\n",
    "plt.boxplot(AUSTIN_IRON_AND_METAL_df['load_weight'])\n",
    "plt.title('Load Weight Box Plot')"
   ]
  },
  {
   "cell_type": "code",
   "execution_count": 1839,
   "metadata": {},
   "outputs": [],
   "source": [
    "AUSTIN_IRON_AND_METAL_df_no_outliers = AUSTIN_IRON_AND_METAL_df[(AUSTIN_IRON_AND_METAL_df['load_weight'] > lower_limit) & (AUSTIN_IRON_AND_METAL_df['load_weight'] < upper_limit)]\n"
   ]
  },
  {
   "cell_type": "code",
   "execution_count": 1840,
   "metadata": {},
   "outputs": [
    {
     "data": {
      "text/html": [
       "<div>\n",
       "<style scoped>\n",
       "    .dataframe tbody tr th:only-of-type {\n",
       "        vertical-align: middle;\n",
       "    }\n",
       "\n",
       "    .dataframe tbody tr th {\n",
       "        vertical-align: top;\n",
       "    }\n",
       "\n",
       "    .dataframe thead th {\n",
       "        text-align: right;\n",
       "    }\n",
       "</style>\n",
       "<table border=\"1\" class=\"dataframe\">\n",
       "  <thead>\n",
       "    <tr style=\"text-align: right;\">\n",
       "      <th></th>\n",
       "      <th>load_weight</th>\n",
       "    </tr>\n",
       "  </thead>\n",
       "  <tbody>\n",
       "    <tr>\n",
       "      <th>count</th>\n",
       "      <td>48.000000</td>\n",
       "    </tr>\n",
       "    <tr>\n",
       "      <th>mean</th>\n",
       "      <td>426.250000</td>\n",
       "    </tr>\n",
       "    <tr>\n",
       "      <th>std</th>\n",
       "      <td>180.514925</td>\n",
       "    </tr>\n",
       "    <tr>\n",
       "      <th>min</th>\n",
       "      <td>140.000000</td>\n",
       "    </tr>\n",
       "    <tr>\n",
       "      <th>25%</th>\n",
       "      <td>287.500000</td>\n",
       "    </tr>\n",
       "    <tr>\n",
       "      <th>50%</th>\n",
       "      <td>395.000000</td>\n",
       "    </tr>\n",
       "    <tr>\n",
       "      <th>75%</th>\n",
       "      <td>542.500000</td>\n",
       "    </tr>\n",
       "    <tr>\n",
       "      <th>max</th>\n",
       "      <td>830.000000</td>\n",
       "    </tr>\n",
       "  </tbody>\n",
       "</table>\n",
       "</div>"
      ],
      "text/plain": [
       "       load_weight\n",
       "count    48.000000\n",
       "mean    426.250000\n",
       "std     180.514925\n",
       "min     140.000000\n",
       "25%     287.500000\n",
       "50%     395.000000\n",
       "75%     542.500000\n",
       "max     830.000000"
      ]
     },
     "execution_count": 1840,
     "metadata": {},
     "output_type": "execute_result"
    }
   ],
   "source": [
    "AUSTIN_IRON_AND_METAL_df_no_outliers.describe()"
   ]
  },
  {
   "cell_type": "code",
   "execution_count": 1841,
   "metadata": {},
   "outputs": [
    {
     "data": {
      "text/plain": [
       "Text(0.5, 1.0, 'Austin Iron and Metal After Outlier Removal')"
      ]
     },
     "execution_count": 1841,
     "metadata": {},
     "output_type": "execute_result"
    },
    {
     "data": {
      "image/png": "[encoded data removed]",
      "text/plain": [
       "<Figure size 640x480 with 1 Axes>"
      ]
     },
     "metadata": {},
     "output_type": "display_data"
    }
   ],
   "source": [
    "plt.boxplot(AUSTIN_IRON_AND_METAL_df_no_outliers['load_weight'])\n",
    "plt.title('Austin Iron and Metal After Outlier Removal')"
   ]
  },
  {
   "cell_type": "code",
   "execution_count": 1842,
   "metadata": {},
   "outputs": [
    {
     "name": "stdout",
     "output_type": "stream",
     "text": [
      "Nilai mean, median dan modus sebelum data outlier dihapus:\n",
      "Median: 21110.0\n",
      "Mean: 19153.333333333332\n",
      "Mode: 8700.0\n",
      "\n",
      "\n",
      "Nilai mean, median dan modus sesudah data outlier dihapus:\n",
      "Median: 395.0\n",
      "Mean: 426.25\n",
      "Mode: 260.0\n"
     ]
    }
   ],
   "source": [
    "AUSTIN_IRON_AND_METAL_df  = Austin[Austin['dropoff_site']=='GREAT NORTHERN']\n",
    "print('Nilai mean, median dan modus sebelum data outlier dihapus:')\n",
    "print (\"Median: \" + str(AUSTIN_IRON_AND_METAL_df['load_weight'].median()))\n",
    "print (\"Mean: \" + str(AUSTIN_IRON_AND_METAL_df['load_weight'].mean()))\n",
    "print (\"Mode: \" + str(AUSTIN_IRON_AND_METAL_df['load_weight'].mode()[0]))\n",
    "print ('\\n')\n",
    "print('Nilai mean, median dan modus sesudah data outlier dihapus:')\n",
    "print (\"Median: \" + str(AUSTIN_IRON_AND_METAL_df_no_outliers['load_weight'].median()))\n",
    "print (\"Mean: \" + str(AUSTIN_IRON_AND_METAL_df_no_outliers['load_weight'].mean()))\n",
    "print (\"Mode: \" + str(AUSTIN_IRON_AND_METAL_df_no_outliers['load_weight'].mode()[0]))"
   ]
  },
  {
   "cell_type": "code",
   "execution_count": 1843,
   "metadata": {},
   "outputs": [
    {
     "data": {
      "text/plain": [
       "'21.659961888630107%'"
      ]
     },
     "execution_count": 1843,
     "metadata": {},
     "output_type": "execute_result"
    }
   ],
   "source": [
    "(str(AUSTIN_IRON_AND_METAL_df_no_outliers['load_weight'].sum()/(AUSTIN_IRON_AND_METAL_df['load_weight'].sum()-(AUSTIN_IRON_AND_METAL_df_no_outliers['load_weight'].sum()))*100) + '%')"
   ]
  },
  {
   "attachments": {},
   "cell_type": "markdown",
   "metadata": {},
   "source": [
    "Di tempat pembuangan Austin Iron and Metal ada **21% outliers.** Jika kita lihat datanya, muatan yang melebihi 830 dikategorikan sebagai ouliers."
   ]
  },
  {
   "attachments": {},
   "cell_type": "markdown",
   "metadata": {},
   "source": [
    "#### Range, Variance, dan Standar Deviasi pada muatan tampungan di Austin and Metal."
   ]
  },
  {
   "cell_type": "code",
   "execution_count": 1844,
   "metadata": {},
   "outputs": [
    {
     "name": "stdout",
     "output_type": "stream",
     "text": [
      "Range:\n",
      "690.0\n",
      "Variance: \n",
      "32585.63829787234\n",
      "Standar Deviasi:\n",
      "180.5149254158014\n"
     ]
    }
   ],
   "source": [
    "print('Range:')\n",
    "print(round(AUSTIN_IRON_AND_METAL_df_no_outliers['load_weight'].max() - AUSTIN_IRON_AND_METAL_df_no_outliers['load_weight'].min(),2))\n",
    "\n",
    "print('Variance: ')\n",
    "print(AUSTIN_IRON_AND_METAL_df_no_outliers['load_weight'].var())\n",
    "\n",
    "print('Standar Deviasi:')\n",
    "print(AUSTIN_IRON_AND_METAL_df_no_outliers.load_weight.std())"
   ]
  },
  {
   "cell_type": "code",
   "execution_count": 1845,
   "metadata": {},
   "outputs": [
    {
     "data": {
      "text/plain": [
       "29532.95168281249"
      ]
     },
     "execution_count": 1845,
     "metadata": {},
     "output_type": "execute_result"
    }
   ],
   "source": [
    "upper_limit = GREAT_NORTHERN_no_outlier.load_weight.mean() + 3*GREAT_NORTHERN_no_outlier.load_weight.std()\n",
    "upper_limit"
   ]
  },
  {
   "cell_type": "code",
   "execution_count": 1846,
   "metadata": {},
   "outputs": [
    {
     "data": {
      "text/plain": [
       "12955.048317187511"
      ]
     },
     "execution_count": 1846,
     "metadata": {},
     "output_type": "execute_result"
    }
   ],
   "source": [
    "lower_limit = GREAT_NORTHERN_no_outlier.load_weight.mean() -3*GREAT_NORTHERN_no_outlier.load_weight.std()\n",
    "lower_limit"
   ]
  },
  {
   "cell_type": "code",
   "execution_count": 1847,
   "metadata": {},
   "outputs": [
    {
     "data": {
      "text/html": [
       "<div>\n",
       "<style scoped>\n",
       "    .dataframe tbody tr th:only-of-type {\n",
       "        vertical-align: middle;\n",
       "    }\n",
       "\n",
       "    .dataframe tbody tr th {\n",
       "        vertical-align: top;\n",
       "    }\n",
       "\n",
       "    .dataframe thead th {\n",
       "        text-align: right;\n",
       "    }\n",
       "</style>\n",
       "<table border=\"1\" class=\"dataframe\">\n",
       "  <thead>\n",
       "    <tr style=\"text-align: right;\">\n",
       "      <th></th>\n",
       "      <th>report_date</th>\n",
       "      <th>load_time</th>\n",
       "      <th>load_type</th>\n",
       "      <th>load_weight</th>\n",
       "      <th>dropoff_site</th>\n",
       "    </tr>\n",
       "  </thead>\n",
       "  <tbody>\n",
       "    <tr>\n",
       "      <th>11826</th>\n",
       "      <td>2021-05-12</td>\n",
       "      <td>2021-05-12 12:49:00 UTC</td>\n",
       "      <td>GARBAGE COLLECTIONS</td>\n",
       "      <td>17160.0</td>\n",
       "      <td>GREAT NORTHERN</td>\n",
       "    </tr>\n",
       "    <tr>\n",
       "      <th>17562</th>\n",
       "      <td>2021-06-24</td>\n",
       "      <td>2021-06-24 01:22:00 UTC</td>\n",
       "      <td>GARBAGE COLLECTIONS</td>\n",
       "      <td>20900.0</td>\n",
       "      <td>GREAT NORTHERN</td>\n",
       "    </tr>\n",
       "    <tr>\n",
       "      <th>23344</th>\n",
       "      <td>2021-02-02</td>\n",
       "      <td>2021-02-02 04:42:00 UTC</td>\n",
       "      <td>GARBAGE COLLECTIONS</td>\n",
       "      <td>21320.0</td>\n",
       "      <td>GREAT NORTHERN</td>\n",
       "    </tr>\n",
       "    <tr>\n",
       "      <th>24244</th>\n",
       "      <td>2021-02-09</td>\n",
       "      <td>2021-02-09 01:53:00 UTC</td>\n",
       "      <td>GARBAGE COLLECTIONS</td>\n",
       "      <td>21960.0</td>\n",
       "      <td>GREAT NORTHERN</td>\n",
       "    </tr>\n",
       "    <tr>\n",
       "      <th>25120</th>\n",
       "      <td>2021-02-23</td>\n",
       "      <td>2021-02-23 02:02:00 UTC</td>\n",
       "      <td>GARBAGE COLLECTIONS</td>\n",
       "      <td>24880.0</td>\n",
       "      <td>GREAT NORTHERN</td>\n",
       "    </tr>\n",
       "  </tbody>\n",
       "</table>\n",
       "</div>"
      ],
      "text/plain": [
       "      report_date                load_time            load_type  load_weight  \\\n",
       "11826  2021-05-12  2021-05-12 12:49:00 UTC  GARBAGE COLLECTIONS      17160.0   \n",
       "17562  2021-06-24  2021-06-24 01:22:00 UTC  GARBAGE COLLECTIONS      20900.0   \n",
       "23344  2021-02-02  2021-02-02 04:42:00 UTC  GARBAGE COLLECTIONS      21320.0   \n",
       "24244  2021-02-09  2021-02-09 01:53:00 UTC  GARBAGE COLLECTIONS      21960.0   \n",
       "25120  2021-02-23  2021-02-23 02:02:00 UTC  GARBAGE COLLECTIONS      24880.0   \n",
       "\n",
       "         dropoff_site  \n",
       "11826  GREAT NORTHERN  \n",
       "17562  GREAT NORTHERN  \n",
       "23344  GREAT NORTHERN  \n",
       "24244  GREAT NORTHERN  \n",
       "25120  GREAT NORTHERN  "
      ]
     },
     "execution_count": 1847,
     "metadata": {},
     "output_type": "execute_result"
    }
   ],
   "source": [
    "GREAT_NORTHERN_no_outlier[(GREAT_NORTHERN_no_outlier.load_weight<upper_limit) & (GREAT_NORTHERN_no_outlier.load_weight>lower_limit)]\n"
   ]
  },
  {
   "cell_type": "code",
   "execution_count": 1848,
   "metadata": {},
   "outputs": [
    {
     "data": {
      "text/html": [
       "<div>\n",
       "<style scoped>\n",
       "    .dataframe tbody tr th:only-of-type {\n",
       "        vertical-align: middle;\n",
       "    }\n",
       "\n",
       "    .dataframe tbody tr th {\n",
       "        vertical-align: top;\n",
       "    }\n",
       "\n",
       "    .dataframe thead th {\n",
       "        text-align: right;\n",
       "    }\n",
       "</style>\n",
       "<table border=\"1\" class=\"dataframe\">\n",
       "  <thead>\n",
       "    <tr style=\"text-align: right;\">\n",
       "      <th></th>\n",
       "      <th>load_weight</th>\n",
       "    </tr>\n",
       "  </thead>\n",
       "  <tbody>\n",
       "    <tr>\n",
       "      <th>count</th>\n",
       "      <td>5.000000</td>\n",
       "    </tr>\n",
       "    <tr>\n",
       "      <th>mean</th>\n",
       "      <td>21244.000000</td>\n",
       "    </tr>\n",
       "    <tr>\n",
       "      <th>std</th>\n",
       "      <td>2762.983894</td>\n",
       "    </tr>\n",
       "    <tr>\n",
       "      <th>min</th>\n",
       "      <td>17160.000000</td>\n",
       "    </tr>\n",
       "    <tr>\n",
       "      <th>25%</th>\n",
       "      <td>20900.000000</td>\n",
       "    </tr>\n",
       "    <tr>\n",
       "      <th>50%</th>\n",
       "      <td>21320.000000</td>\n",
       "    </tr>\n",
       "    <tr>\n",
       "      <th>75%</th>\n",
       "      <td>21960.000000</td>\n",
       "    </tr>\n",
       "    <tr>\n",
       "      <th>max</th>\n",
       "      <td>24880.000000</td>\n",
       "    </tr>\n",
       "  </tbody>\n",
       "</table>\n",
       "</div>"
      ],
      "text/plain": [
       "        load_weight\n",
       "count      5.000000\n",
       "mean   21244.000000\n",
       "std     2762.983894\n",
       "min    17160.000000\n",
       "25%    20900.000000\n",
       "50%    21320.000000\n",
       "75%    21960.000000\n",
       "max    24880.000000"
      ]
     },
     "execution_count": 1848,
     "metadata": {},
     "output_type": "execute_result"
    }
   ],
   "source": [
    "GREAT_NORTHERN_no_outlier.describe()"
   ]
  },
  {
   "attachments": {},
   "cell_type": "markdown",
   "metadata": {},
   "source": [
    "dari data diatas bisa disimpulkan bahwa **standar deviasi adalah 2762,98.** Maka jika dihitung dari penyimpangannya, ada dua data yang terlalu menyimpang. less weight berada di tanggal 2021-05-12 dengan berat 17160(< mean-std). kemudian di tanggal 2021-02-23 over weight sebesar 24880."
   ]
  },
  {
   "attachments": {},
   "cell_type": "markdown",
   "metadata": {},
   "source": [
    "#### Confidence Interval"
   ]
  },
  {
   "attachments": {},
   "cell_type": "markdown",
   "metadata": {},
   "source": [
    "Data yang diambil adalah data keseluruhan dengan data yang sudah dihapus outliersnya. Kapasitas penampungan untuk tempat pembuangan sampah terbaru bisa diperkirakan dengan menggunakan nilai confidence interval"
   ]
  },
  {
   "cell_type": "code",
   "execution_count": 1849,
   "metadata": {},
   "outputs": [
    {
     "name": "stdout",
     "output_type": "stream",
     "text": [
      "9320.0\n"
     ]
    },
    {
     "data": {
      "text/plain": [
       "Text(0.5, 1.0, 'Load Weight Box Plot')"
      ]
     },
     "execution_count": 1849,
     "metadata": {},
     "output_type": "execute_result"
    },
    {
     "data": {
      "image/png": "[encoded data removed]",
      "text/plain": [
       "<Figure size 640x480 with 1 Axes>"
      ]
     },
     "metadata": {},
     "output_type": "display_data"
    }
   ],
   "source": [
    "# Data Keseluruhan di kota Austin\n",
    "Q1, Q3 = np.percentile(Austin['load_weight'],[25,75])\n",
    "IQR = Q3 - Q1\n",
    "print(IQR)\n",
    "\n",
    "lower_limit = Q1 - (1.5 * IQR)\n",
    "upper_limit = Q3 + (1.5 * IQR)\n",
    "\n",
    "plt.boxplot(Austin['load_weight'])\n",
    "plt.title('Load Weight Box Plot')"
   ]
  },
  {
   "cell_type": "code",
   "execution_count": 1850,
   "metadata": {},
   "outputs": [
    {
     "data": {
      "text/plain": [
       "Text(0.5, 1.0, 'Austin After Outlier Removal')"
      ]
     },
     "execution_count": 1850,
     "metadata": {},
     "output_type": "execute_result"
    },
    {
     "data": {
      "image/png": "[encoded data removed]",
      "text/plain": [
       "<Figure size 640x480 with 1 Axes>"
      ]
     },
     "metadata": {},
     "output_type": "display_data"
    }
   ],
   "source": [
    "# Menghapus data outliers\n",
    "Austin_no_outliers = Austin[(Austin['load_weight'] > lower_limit) & (Austin['load_weight'] < upper_limit)]\n",
    "plt.boxplot(Austin_no_outliers['load_weight'])\n",
    "plt.title('Austin After Outlier Removal')"
   ]
  },
  {
   "cell_type": "code",
   "execution_count": 1851,
   "metadata": {},
   "outputs": [
    {
     "data": {
      "text/plain": [
       "25084.81"
      ]
     },
     "execution_count": 1851,
     "metadata": {},
     "output_type": "execute_result"
    }
   ],
   "source": [
    "ci = stats.norm.interval(0.95, Austin_no_outliers.load_weight.mean(), Austin_no_outliers.load_weight.std())\n",
    "ci = round(ci[1],2)\n",
    "ci"
   ]
  },
  {
   "attachments": {},
   "cell_type": "markdown",
   "metadata": {},
   "source": [
    "Dari data tersebut bisa diperkiraan **tempat penampungan yang baru tidak melebihi 25084 muatan.**"
   ]
  },
  {
   "attachments": {},
   "cell_type": "markdown",
   "metadata": {},
   "source": [
    "### Uji Hipotesis\n",
    "\n",
    "Hipotesis:\n",
    "\n",
    "Apakah rata-rata harian muatan sampah pada dua tempat berbeda secara signifikan atau tidak?\n",
    "\n",
    "Sample yang dipilih adalah Austin Iron and Metal dan Austin Wood Rescycling.\n",
    "\n",
    "H0 : Tidak ada perbedaan yang signifikan antara rata-rata harian Austin Iron and Metal dan rata-rata harian Austin Wood Rescycling.\n",
    "H1 : Terdapat perbedaan yang siginifikan antara rata-rata harian Austin Iron and Metal dan rata-rata harian Austin Wood Rescycling."
   ]
  },
  {
   "cell_type": "code",
   "execution_count": 1852,
   "metadata": {},
   "outputs": [
    {
     "name": "stdout",
     "output_type": "stream",
     "text": [
      "Rata-rata load weight di Austin Iron and Metal per hari: 451.0\n",
      "Rata-rata load weight di Austin Wood recycling per hari: 4050.0\n",
      "\n",
      "P-value: 7.64275178633308e-17\n",
      "t-statistics: -12.378779757780721\n"
     ]
    }
   ],
   "source": [
    "# Menghitung rata-rata Austin Iron and Metal dan Austin Wood Recycling\n",
    "AIM = Austin[Austin['dropoff_site'] == 'AUSTIN IRON AND METAL'][['report_date', 'load_weight']].groupby('report_date').sum()\n",
    "AWR = Austin[Austin['dropoff_site'] == 'AUSTIN WOOD RECYCLING'][['report_date', 'load_weight']].groupby('report_date').sum()\n",
    "\n",
    "print('Rata-rata load weight di Austin Iron and Metal per hari: {}'.format(np.round(AIM.load_weight.mean())))\n",
    "print('Rata-rata load weight di Austin Wood recycling per hari: {}'.format(np.round(AWR.load_weight.mean())))\n",
    "\n",
    "# Menghitung nilai p-value dengan t-test\n",
    "t_stat, p_val = stats.ttest_ind(AIM, AWR)\n",
    "print('\\nP-value:',p_val[0])\n",
    "print('t-statistics:',t_stat[0])\n",
    "\n",
    "# Menghitung mean sample\n",
    "AIM_mean = np.random.normal(AIM.load_weight.mean(), AIM.load_weight.std(),10000)\n",
    "AWR_mean = np.random.normal(AWR.load_weight.mean(), AWR.load_weight.std(),10000)\n",
    "\n",
    "# Menghitung nilai confidence interval\n",
    "ci = stats.norm.interval(0.95, AIM.load_weight.mean(), AIM.load_weight.std())\n"
   ]
  },
  {
   "cell_type": "code",
   "execution_count": 1853,
   "metadata": {},
   "outputs": [
    {
     "data": {
      "text/plain": [
       "<matplotlib.legend.Legend at 0x24eb9494710>"
      ]
     },
     "execution_count": 1853,
     "metadata": {},
     "output_type": "execute_result"
    },
    {
     "data": {
      "image/png": "[encoded data removed]",
      "text/plain": [
       "<Figure size 1600x500 with 1 Axes>"
      ]
     },
     "metadata": {},
     "output_type": "display_data"
    }
   ],
   "source": [
    "# Visualisasi grafik\n",
    "plt.figure(figsize=(16,5))\n",
    "sns.histplot(AIM_mean, label='Austin Iron and Metal Average Load Weight a Day *Pop',color='blue', kde=True)\n",
    "sns.histplot(AWR_mean, label='Austin Wood recycling Average Load Weight a Day *Pop',color='red', kde=True)\n",
    "\n",
    "plt.axvline(AIM_mean.mean(), color='blue', linewidth=2, label='Austin Iron and Metal mean')\n",
    "plt.axvline(AWR_mean.mean(), color='red',  linewidth=2, label='Austin Wood Recycling mean')\n",
    "\n",
    "plt.axvline(ci[1], color='green', linestyle='dashed', linewidth=2, label='confidence threshold of 95%')\n",
    "plt.axvline(ci[0], color='green', linestyle='dashed', linewidth=2)\n",
    "\n",
    "plt.axvline(AIM_mean.mean()+t_stat[0]*AIM_mean.std(), color='black', linestyle='dashed', linewidth=2, label = 'Alternative Hypothesis')\n",
    "plt.axvline(AWR_mean.mean()-t_stat[0]*AIM_mean.std(), color='black', linestyle='dashed', linewidth=2)\n",
    "\n",
    "plt.legend()"
   ]
  },
  {
   "attachments": {},
   "cell_type": "markdown",
   "metadata": {},
   "source": [
    "Dari grafik diatas bisa disimpulkan bahwa terdapat perbedaan yang sangat signifikan antara rata-rata harian muatan sampah di Austin Iron and Metal and Austin Wood Recycling."
   ]
  },
  {
   "attachments": {},
   "cell_type": "markdown",
   "metadata": {},
   "source": [
    "<hr>"
   ]
  },
  {
   "attachments": {},
   "cell_type": "markdown",
   "metadata": {},
   "source": [
    "Teknik apa yang kamu pilih untuk handling outlier? jelaskan alasannya!\n",
    "\n",
    "Teknik yang dipilih untuk mengatasi outlier adalah dengan perhitungan Inter-Quantile Range (IQR). Karena data mememiliki distribusi Left-Skewness. Setelah perhitungan selesai, data outlier yang ada pada data akan dihapus\n",
    "\n",
    "Apa konsep dibalik confidence interval sehingga kita dapat menggunakannya untuk menyelesaikan langkah pada nomor 7?\n",
    "\n",
    "Confidence Interval digunakan untuk menentukan keakuratan nilai rata-rata suatu sample terhadap populasinya. Dengan menggunakan confidence interval, kita dapat melakukan estimasi berapa rata-rata terkecil dan berapa rata-rata terbesar yang ada pada suatu populasi. Sehingga, kita tidak perlu menghitung secara keseluruhan populasi, karena dapat diperkirakan dari nilai confidence interval.\n",
    "\n",
    "Jelaskan jenis uji hipotesis apa yang kamu terapkan dan mengapa?\n",
    "\n",
    "Jenis uji hipotesis yang digunakan adalah Two Samples Independent Two Tailed Hypothesis Testing. Karena yang diuji adalah rata-rata dari 2 populasi yang independen."
   ]
  },
  {
   "attachments": {},
   "cell_type": "markdown",
   "metadata": {},
   "source": [
    "<hr>"
   ]
  },
  {
   "attachments": {},
   "cell_type": "markdown",
   "metadata": {},
   "source": [
    "## Problem 2 (Math/Calculus)"
   ]
  },
  {
   "attachments": {},
   "cell_type": "markdown",
   "metadata": {},
   "source": [
    "**Rumus :**\n",
    "*w_besok = w_hari_ini + v * (t1-t)*"
   ]
  },
  {
   "cell_type": "code",
   "execution_count": 1854,
   "metadata": {},
   "outputs": [
    {
     "data": {
      "text/html": [
       "<div>\n",
       "<style scoped>\n",
       "    .dataframe tbody tr th:only-of-type {\n",
       "        vertical-align: middle;\n",
       "    }\n",
       "\n",
       "    .dataframe tbody tr th {\n",
       "        vertical-align: top;\n",
       "    }\n",
       "\n",
       "    .dataframe thead th {\n",
       "        text-align: right;\n",
       "    }\n",
       "</style>\n",
       "<table border=\"1\" class=\"dataframe\">\n",
       "  <thead>\n",
       "    <tr style=\"text-align: right;\">\n",
       "      <th></th>\n",
       "      <th>report_date</th>\n",
       "      <th>load_weight</th>\n",
       "    </tr>\n",
       "  </thead>\n",
       "  <tbody>\n",
       "    <tr>\n",
       "      <th>0</th>\n",
       "      <td>2021-01-02</td>\n",
       "      <td>2170130.0</td>\n",
       "    </tr>\n",
       "    <tr>\n",
       "      <th>1</th>\n",
       "      <td>2021-01-04</td>\n",
       "      <td>2920260.0</td>\n",
       "    </tr>\n",
       "    <tr>\n",
       "      <th>2</th>\n",
       "      <td>2021-01-05</td>\n",
       "      <td>2388540.0</td>\n",
       "    </tr>\n",
       "    <tr>\n",
       "      <th>3</th>\n",
       "      <td>2021-01-06</td>\n",
       "      <td>2396550.0</td>\n",
       "    </tr>\n",
       "    <tr>\n",
       "      <th>4</th>\n",
       "      <td>2021-01-07</td>\n",
       "      <td>2438330.0</td>\n",
       "    </tr>\n",
       "    <tr>\n",
       "      <th>...</th>\n",
       "      <td>...</td>\n",
       "      <td>...</td>\n",
       "    </tr>\n",
       "    <tr>\n",
       "      <th>160</th>\n",
       "      <td>2021-07-05</td>\n",
       "      <td>1897290.0</td>\n",
       "    </tr>\n",
       "    <tr>\n",
       "      <th>161</th>\n",
       "      <td>2021-07-06</td>\n",
       "      <td>1921640.0</td>\n",
       "    </tr>\n",
       "    <tr>\n",
       "      <th>162</th>\n",
       "      <td>2021-07-07</td>\n",
       "      <td>1553080.0</td>\n",
       "    </tr>\n",
       "    <tr>\n",
       "      <th>163</th>\n",
       "      <td>2021-07-08</td>\n",
       "      <td>1417650.0</td>\n",
       "    </tr>\n",
       "    <tr>\n",
       "      <th>164</th>\n",
       "      <td>2021-07-09</td>\n",
       "      <td>120340.0</td>\n",
       "    </tr>\n",
       "  </tbody>\n",
       "</table>\n",
       "<p>165 rows × 2 columns</p>\n",
       "</div>"
      ],
      "text/plain": [
       "    report_date  load_weight\n",
       "0    2021-01-02    2170130.0\n",
       "1    2021-01-04    2920260.0\n",
       "2    2021-01-05    2388540.0\n",
       "3    2021-01-06    2396550.0\n",
       "4    2021-01-07    2438330.0\n",
       "..          ...          ...\n",
       "160  2021-07-05    1897290.0\n",
       "161  2021-07-06    1921640.0\n",
       "162  2021-07-07    1553080.0\n",
       "163  2021-07-08    1417650.0\n",
       "164  2021-07-09     120340.0\n",
       "\n",
       "[165 rows x 2 columns]"
      ]
     },
     "execution_count": 1854,
     "metadata": {},
     "output_type": "execute_result"
    }
   ],
   "source": [
    "df_prediction = Austin.groupby(Austin['report_date'])['load_weight'].sum()\n",
    "df_prediction = df_prediction.to_frame().reset_index()\n",
    "df_prediction.columns = ['report_date', 'load_weight']\n",
    "df_prediction.sort_values('report_date', ascending=True)"
   ]
  },
  {
   "cell_type": "code",
   "execution_count": 1855,
   "metadata": {},
   "outputs": [
    {
     "data": {
      "text/plain": [
       "-1176970.0"
      ]
     },
     "execution_count": 1855,
     "metadata": {},
     "output_type": "execute_result"
    }
   ],
   "source": [
    "x = df_prediction.index.values\n",
    "y = df_prediction.load_weight.values\n",
    "\n",
    "v = np.gradient(y,x)\n",
    "\n",
    "w = df_prediction.load_weight[164] + (v * 1)\n",
    "w[164]"
   ]
  },
  {
   "attachments": {},
   "cell_type": "markdown",
   "metadata": {},
   "source": [
    "<hr>"
   ]
  },
  {
   "attachments": {},
   "cell_type": "markdown",
   "metadata": {},
   "source": [
    "1. Untuk menghitung turunan pertama dapat digunakan metode simbolik dan numerik, untuk kasus ini, teknik apa yang kamu gunakan?\n",
    "\n",
    "Teknik yang digunakan adalah teknik numerik. Karena dataset yang ditampilkan berbentuk array dan output yang diharapkan adalah data numerik.\n",
    "\n",
    "2. Apakah kamu membutuhkan fungsi matematis untuk menghitung turunannya? (ya/tidak) berikan alasanmu!\n",
    "\n",
    "Ya, karena untuk memprediksi sebuah kemungkinan terjadi harus menggunakan fungsi matematis yaitu fungsi turunan.\n",
    "\n",
    "3. Berapa load weight yang kamu perkirakan di hari esok (10 Juli 2021)?\n",
    "\n",
    "1176970"
   ]
  },
  {
   "attachments": {},
   "cell_type": "markdown",
   "metadata": {},
   "source": [
    "<hr>"
   ]
  }
 ],
 "metadata": {
  "kernelspec": {
   "display_name": "Python 3.11.0 64-bit",
   "language": "python",
   "name": "python3"
  },
  "language_info": {
   "codemirror_mode": {
    "name": "ipython",
    "version": 3
   },
   "file_extension": ".py",
   "mimetype": "text/x-python",
   "name": "python",
   "nbconvert_exporter": "python",
   "pygments_lexer": "ipython3",
   "version": "3.11.0"
  },
  "orig_nbformat": 4,
  "vscode": {
   "interpreter": {
    "hash": "bd515da7b6b96552b54afac513d0716c9696ec40e25d799991196c4080ab6efd"
   }
  }
 },
 "nbformat": 4,
 "nbformat_minor": 2
}
